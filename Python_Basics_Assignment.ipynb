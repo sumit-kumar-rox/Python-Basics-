{
  "nbformat": 4,
  "nbformat_minor": 0,
  "metadata": {
    "colab": {
      "provenance": []
    },
    "kernelspec": {
      "name": "python3",
      "display_name": "Python 3"
    },
    "language_info": {
      "name": "python"
    }
  },
  "cells": [
    {
      "cell_type": "markdown",
      "source": [
        "1) What is Python, and why is it popular?\n",
        "  - Python is a high-level, interpreted programming language known for its\n",
        "     simplicity and readability. It's popular due to its versatility, large community, and wide use in fields like web development, data science, and automation.\n",
        "\n",
        "2) What is an interpreter in Python?\n",
        "  - An interpreter reads and executes Python code line by line, translating it\n",
        "     into machine code at runtime.\n",
        "\n",
        "3) What are pre-defined keywords in Python?\n",
        "  - Keywords are reserved words with special meaning in Python, like if, else,\n",
        "     def, return, etc.\n",
        "\n",
        "\n",
        "4) Can keywords be used as variable names?\n",
        "  - No, keywords cannot be used as variable names.\n",
        "\n",
        "\n",
        "5) What is mutability in Python?\n",
        "  - Mutability refers to whether an object can be changed after it's created.\n",
        "     Lists are mutable, while tuples are immutable.\n",
        "\n",
        "\n",
        "6) why are lists mutable, but tuples are immutable?\n",
        "  - Lists are designed to allow modifications (e.g., append, remove), while\n",
        "     tuples are fixed collections used to protect data from being changed.\n",
        "\n",
        "\n",
        "7) What is the difference between == and is operators in Python?\n",
        "  - == checks for value equality, while is checks for identity (whether two\n",
        "      variables point to the same object in memory).\n",
        "\n",
        "\n",
        "8) What are logical operators in Python?\n",
        "   - Logical operators include and, or, and not. They are used to combine\n",
        "     conditional statements.\n",
        "\n",
        "\n",
        "9) What is type casting in Python?\n",
        "  - Type casting is converting one data type into another, like int(\"10\")\n",
        "     converting a string to an integer.\n",
        "\n",
        "\n",
        "10) What is the difference between implicit and explicit type casting?\n",
        "   - Implicit casting is done automatically by Python. Explicit casting is done\n",
        "     manually using functions like int(), float(), etc.\n",
        "\n",
        "\n",
        "11) What is the purpose of conditional statements in Python?\n",
        "   - Conditional statements control the flow of execution based on conditions\n",
        "     (if, elif, else).\n",
        "\n",
        "\n",
        "12) How does the elif statement work?\n",
        "   - elif (else if) checks another condition if the previous if or elif\n",
        "     condition is False.\n",
        "\n",
        "\n",
        "13) What is the difference between for and while loops?\n",
        "   - for loops iterate over sequences; while loops execute as long as a\n",
        "     condition is True.\n",
        "\n",
        "\n",
        "14) Describe a scenario where a while loop is more suitable than a for loop?\n",
        "   - When the number of iterations is not known in advance, such as waiting for\n",
        "     user input to meet a condition."
      ],
      "metadata": {
        "id": "sVhK4OTMHLQf"
      }
    },
    {
      "cell_type": "code",
      "source": [
        "# 1) Write a Python program to print \"Hello,World!\"?\n",
        "\n",
        "print(\"Hello world!\")"
      ],
      "metadata": {
        "colab": {
          "base_uri": "https://localhost:8080/"
        },
        "id": "MDSeCR6rMvXP",
        "outputId": "c1ef8f77-e777-4933-e948-c7cd1218debb"
      },
      "execution_count": null,
      "outputs": [
        {
          "output_type": "stream",
          "name": "stdout",
          "text": [
            "Hello world!\n"
          ]
        }
      ]
    },
    {
      "cell_type": "code",
      "source": [
        "# 2) Write a Python program that displays your name and age?\n",
        "\n",
        "input(\"name\")\n",
        "input(\"age\")"
      ],
      "metadata": {
        "colab": {
          "base_uri": "https://localhost:8080/",
          "height": 70
        },
        "id": "gmw27W31N38K",
        "outputId": "34e3bedf-9907-4d90-9e23-2c6fe8044fa6"
      },
      "execution_count": null,
      "outputs": [
        {
          "name": "stdout",
          "output_type": "stream",
          "text": [
            "name sumit kumar\n",
            "age 27\n"
          ]
        },
        {
          "output_type": "execute_result",
          "data": {
            "text/plain": [
              "' 27'"
            ],
            "application/vnd.google.colaboratory.intrinsic+json": {
              "type": "string"
            }
          },
          "metadata": {},
          "execution_count": 11
        }
      ]
    },
    {
      "cell_type": "code",
      "source": [
        "# 3) Write code to print all the pre-defined keywords in Python using the keyword library?\n",
        "\n",
        "help(\"keywords\")"
      ],
      "metadata": {
        "colab": {
          "base_uri": "https://localhost:8080/"
        },
        "id": "lO01s-GOO9ub",
        "outputId": "ba212377-5143-41a5-dd4f-5dd85d1bcd43"
      },
      "execution_count": null,
      "outputs": [
        {
          "output_type": "stream",
          "name": "stdout",
          "text": [
            "\n",
            "Here is a list of the Python keywords.  Enter any keyword to get more help.\n",
            "\n",
            "False               class               from                or\n",
            "None                continue            global              pass\n",
            "True                def                 if                  raise\n",
            "and                 del                 import              return\n",
            "as                  elif                in                  try\n",
            "assert              else                is                  while\n",
            "async               except              lambda              with\n",
            "await               finally             nonlocal            yield\n",
            "break               for                 not                 \n",
            "\n"
          ]
        }
      ]
    },
    {
      "cell_type": "code",
      "source": [
        "# 4) Write a program that checks if a given word is a Python keyword?\n",
        "import keyword\n",
        "\n",
        "def check_keyword(word):\n",
        "    if keyword.iskeyword(word):\n",
        "        print(f\"'{word}' is a python keyword.\")\n",
        "    else:\n",
        "        print(f\"'{word}' is not a python keyword\")\n",
        "\n",
        "# input from user\n",
        "word = input(\"enter word to check if it's a python keyword:\")\n",
        "check_keyword(word)"
      ],
      "metadata": {
        "colab": {
          "base_uri": "https://localhost:8080/"
        },
        "id": "UMucc7HNQNrX",
        "outputId": "8df204a4-fbee-446c-e58a-a46405f39f3a"
      },
      "execution_count": null,
      "outputs": [
        {
          "output_type": "stream",
          "name": "stdout",
          "text": [
            "enter word to check if it's a python keyword:sumit\n",
            "'sumit' is not a python keyword\n"
          ]
        }
      ]
    },
    {
      "cell_type": "code",
      "source": [
        "# 5) Create a list and tuple in Python, and demonstrate how attempting to change an element works differently for each?\n",
        "\n",
        "# creating a list and a tuple\n",
        "my_list = [5,2,3]\n",
        "my_tuple = (1,10,15)\n",
        "\n",
        "# Attempting to change the first element in the list\n",
        "my_list[0] = 30\n",
        "print(\"Modified List:\", my_list)\n",
        "\n",
        "# Attempting to change the first element in the tuple\n",
        "try:\n",
        "\n",
        "  my_tuple[0] = 100\n",
        "except TypeError as e:\n",
        "  print(\"Error when modified tuple:\", e)\n"
      ],
      "metadata": {
        "colab": {
          "base_uri": "https://localhost:8080/"
        },
        "id": "J88RubiKZB8f",
        "outputId": "4a10cdc6-0624-475a-e3a5-33424c48f400"
      },
      "execution_count": null,
      "outputs": [
        {
          "output_type": "stream",
          "name": "stdout",
          "text": [
            "Modified List: [30, 2, 3]\n",
            "Error when modified tuple: 'tuple' object does not support item assignment\n"
          ]
        }
      ]
    },
    {
      "cell_type": "code",
      "source": [
        "# 6) Write a function to demonstrate the behavior of mutable and immutable arguments?\n",
        "\n",
        "def demonstrate_args(mutable, immutable):\n",
        "  mutable.append(100)\n",
        "  immutable +=100\n",
        "  print(\"Inside:\", mutable, immutable)\n",
        "\n",
        "lst, num = [1,2,3], 10\n",
        "print(\"Before:\", lst, num)\n",
        "demonstrate_args(lst, num)\n",
        "print(\"After:\", lst, num)"
      ],
      "metadata": {
        "colab": {
          "base_uri": "https://localhost:8080/"
        },
        "id": "EZcoCeD8Z6Ek",
        "outputId": "fb6c90e3-6b9e-4753-82a3-cba16153cf6b"
      },
      "execution_count": null,
      "outputs": [
        {
          "output_type": "stream",
          "name": "stdout",
          "text": [
            "Before: [1, 2, 3] 10\n",
            "Inside: [1, 2, 3, 100] 110\n",
            "After: [1, 2, 3, 100] 10\n"
          ]
        }
      ]
    },
    {
      "cell_type": "code",
      "source": [
        " # 7) Write a program that performs basic arithmetic operations on two user-input numbers?\n",
        "\n",
        "a= int(input(\"enter first number\"))\n",
        "b= int(input(\"enter second number\"))\n",
        "\n",
        "print(\"Add:\",a+b)\n",
        "print(\"Sub:\", a-b)\n",
        "print(\"Multipy:\", a*b)\n",
        "print(\"Div:\", a/b)\n"
      ],
      "metadata": {
        "colab": {
          "base_uri": "https://localhost:8080/"
        },
        "id": "ognU2bPgeg8x",
        "outputId": "4044bb16-4e2f-4841-c8f6-23a24e2e1260"
      },
      "execution_count": null,
      "outputs": [
        {
          "output_type": "stream",
          "name": "stdout",
          "text": [
            "enter first number8\n",
            "enter second number7\n",
            "Add: 15\n",
            "Sub: 1\n",
            "Multipy: 56\n",
            "Div: 1.1428571428571428\n"
          ]
        }
      ]
    },
    {
      "cell_type": "code",
      "source": [
        "# 8) Write a program to demonstrate the use of logical operators?\n",
        "a,b,c = 10,20,30\n",
        "\n",
        "# logical OR\n",
        "if a>b and b<c:\n",
        "  print (\"Both condition are True\")\n",
        "\n",
        "#Logical AND\n",
        "if a<b and b<c:\n",
        "  print(\"Both condition are True\")"
      ],
      "metadata": {
        "colab": {
          "base_uri": "https://localhost:8080/"
        },
        "id": "Hn6VMi9IgeMF",
        "outputId": "409b6404-1a21-4e29-e8b4-f4d44c3a048a"
      },
      "execution_count": null,
      "outputs": [
        {
          "output_type": "stream",
          "name": "stdout",
          "text": [
            "Both condition are True\n"
          ]
        }
      ]
    },
    {
      "cell_type": "code",
      "source": [
        "# 9) Write a Python program to convert user input from string to integer, float, and boolean types?\n",
        "\n",
        "user_input = input(\"Enter a value:\")\n",
        "\n",
        "# conversion starts from below code\n",
        "\n",
        "integer_value = int(user_input)\n",
        "float_value = float(user_input)\n",
        "boolean_value = bool(user_input)\n",
        "\n",
        "print(\"Integer Value:\", integer_value)\n",
        "print(\"Float Value:\", float_value)\n",
        "print(\"Boolean Value:\", boolean_value)\n",
        "\n"
      ],
      "metadata": {
        "colab": {
          "base_uri": "https://localhost:8080/"
        },
        "id": "jRQYqoxjiWus",
        "outputId": "cd56eb0c-3b1a-497d-fac8-9f07c1fe841f"
      },
      "execution_count": null,
      "outputs": [
        {
          "output_type": "stream",
          "name": "stdout",
          "text": [
            "Enter a value:8\n",
            "Integer Value: 8\n",
            "Float Value: 8.0\n",
            "Boolean Value: True\n"
          ]
        }
      ]
    },
    {
      "cell_type": "code",
      "source": [
        "# 10)  Write code to demonstrate type casting with list elements?\n",
        "\n",
        "my_list = [\"5\", \"10\", \"15\"]\n",
        "\n",
        "# Type casting : Convert al string to integers.\n",
        "\n",
        "int_list = [int(x) for x in my_list]\n",
        "print(\"Integer List:\", int_list)\n",
        "\n",
        "#Convert integer back to string\n",
        "\n",
        "str_list = [str(x) for x in int_list]\n",
        "print(\"String List:\", str_list)"
      ],
      "metadata": {
        "colab": {
          "base_uri": "https://localhost:8080/"
        },
        "id": "7HTtE1SpjTb4",
        "outputId": "e4a5e9c8-392b-47df-b416-50f95397d9e0"
      },
      "execution_count": null,
      "outputs": [
        {
          "output_type": "stream",
          "name": "stdout",
          "text": [
            "Integer List: [5, 10, 15]\n",
            "String List: ['5', '10', '15']\n"
          ]
        }
      ]
    },
    {
      "cell_type": "code",
      "source": [
        "# 11) Write a program that checks if a number is positive, negative, or zero?\n",
        "\n",
        "num = int(input(\"Enter a number:\"))\n",
        "\n",
        "if num>0:\n",
        "  print(\"The number is Positive\")\n",
        "elif num<0:\n",
        "  print(\"The number is Negative\")\n",
        "else:\n",
        "  print(\"The number is Zero\")"
      ],
      "metadata": {
        "colab": {
          "base_uri": "https://localhost:8080/"
        },
        "id": "kIQI27zok7o4",
        "outputId": "ffb41103-6133-4c1b-cf89-2b5dc87bdd16"
      },
      "execution_count": null,
      "outputs": [
        {
          "output_type": "stream",
          "name": "stdout",
          "text": [
            "Enter a number:-8\n",
            "The number is Negative\n"
          ]
        }
      ]
    },
    {
      "cell_type": "code",
      "source": [
        "# 12)  Write a for loop to print numbers from 1 to 10?\n",
        "\n",
        "for i in range(1,11):\n",
        "  print(i)"
      ],
      "metadata": {
        "colab": {
          "base_uri": "https://localhost:8080/"
        },
        "id": "uUpjfUjTl_5t",
        "outputId": "ec89b896-b208-4bf9-b4b8-ed4959e2b1ff"
      },
      "execution_count": null,
      "outputs": [
        {
          "output_type": "stream",
          "name": "stdout",
          "text": [
            "1\n",
            "2\n",
            "3\n",
            "4\n",
            "5\n",
            "6\n",
            "7\n",
            "8\n",
            "9\n",
            "10\n"
          ]
        }
      ]
    },
    {
      "cell_type": "code",
      "source": [
        "# 13) Write a Python program to find the sum of all even numbers between 1 and 50?\n",
        "\n",
        "even_sum = sum(i for i in range(1,51) if i % 2 == 0)\n",
        "\n",
        "print(\"sum of even numbers between 1 and 50:\", even_sum)"
      ],
      "metadata": {
        "colab": {
          "base_uri": "https://localhost:8080/"
        },
        "id": "3kSBvgJpxpKY",
        "outputId": "db421082-ccde-4b07-cf34-08d50ee5ef5e"
      },
      "execution_count": null,
      "outputs": [
        {
          "output_type": "stream",
          "name": "stdout",
          "text": [
            "sum of even numbers between 1 and 50: 650\n"
          ]
        }
      ]
    },
    {
      "cell_type": "code",
      "source": [
        "# 14)  Write a program to reverse a string using a while loop?\n",
        "\n",
        "original_string = input(\"enter a string:\")\n",
        "reversed_string = \"\"\n",
        "i = len(original_string) - 1\n",
        "\n",
        "while i >= 0:\n",
        "  reversed_string += original_string[i]\n",
        "  i -= 1\n",
        "\n",
        "print(\"Reversed String:\", reversed_string)"
      ],
      "metadata": {
        "colab": {
          "base_uri": "https://localhost:8080/"
        },
        "id": "xvMirGzhyW0n",
        "outputId": "69170845-8fee-471d-a819-d064e966f005"
      },
      "execution_count": 1,
      "outputs": [
        {
          "output_type": "stream",
          "name": "stdout",
          "text": [
            "enter a string:sumit\n",
            "Reversed String: timus\n"
          ]
        }
      ]
    },
    {
      "cell_type": "code",
      "source": [
        "# 15)  Write a Python program to calculate the factorial of a number provided by the user using a while loop?\n",
        "\n",
        "num = int(input(\"Enter a number:\"))\n",
        "factorial = 1\n",
        "i = 1\n",
        "\n",
        "while i <= num:\n",
        "  factorial *= i\n",
        "  i += 1\n",
        "\n",
        "print(f\"The factorial of {num} is {factorial}\")"
      ],
      "metadata": {
        "id": "iIYQ-rNKzhs8",
        "colab": {
          "base_uri": "https://localhost:8080/"
        },
        "outputId": "14309922-0ca1-43f1-ee82-8ae160cfb329"
      },
      "execution_count": 2,
      "outputs": [
        {
          "output_type": "stream",
          "name": "stdout",
          "text": [
            "Enter a number:8\n",
            "The factorial of 8 is 40320\n"
          ]
        }
      ]
    }
  ]
}